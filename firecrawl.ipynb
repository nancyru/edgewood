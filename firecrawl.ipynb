{
 "cells": [
  {
   "cell_type": "code",
   "execution_count": null,
   "id": "1b568184-8b94-43b3-a6d5-9524f4be0ec7",
   "metadata": {},
   "outputs": [],
   "source": [
    "import os\n",
    "import pickle\n",
    "\n",
    "from dotenv import load_dotenv\n",
    "from firecrawl import FirecrawlApp"
   ]
  },
  {
   "cell_type": "code",
   "execution_count": null,
   "id": "e6ed3b19-8f7c-4485-b205-f1db3dd603a4",
   "metadata": {},
   "outputs": [],
   "source": [
    "# Load environment variables from .env\n",
    "load_dotenv()"
   ]
  },
  {
   "cell_type": "code",
   "execution_count": null,
   "id": "e6f854b7-2660-4201-b3c0-43e33024a90a",
   "metadata": {},
   "outputs": [],
   "source": [
    "# Crawl\n",
    "firecrawl_api_key = os.getenv(\"FIRECRAWL_API_KEY\")\n",
    "\n",
    "app = FirecrawlApp(api_key=firecrawl_api_key)\n",
    "\n",
    "crawl_result = app.crawl_url('https://friendsofedgewood.org/', params={\n",
    "    'limit': 380,\n",
    "    'scrapeOptions': {\n",
    "    \t'formats': [\"markdown\", \"links\", \"html\", \"rawHtml\", \"screenshot\"],\n",
    "    'onlyMainContent':True\n",
    "      }\n",
    "    })"
   ]
  },
  {
   "cell_type": "code",
   "execution_count": null,
   "id": "cb2ce408-9482-4d78-bd3b-f9b5763eb627",
   "metadata": {},
   "outputs": [],
   "source": [
    "# Save results\n",
    "\n",
    "filename = 'firecrawl_result.pkl'\n",
    "\n",
    "with open(filename, 'wb') as file:\n",
    "    pickle.dump(crawl_result, file)"
   ]
  }
 ],
 "metadata": {
  "kernelspec": {
   "display_name": "Python 3 (ipykernel)",
   "language": "python",
   "name": "python3"
  },
  "language_info": {
   "codemirror_mode": {
    "name": "ipython",
    "version": 3
   },
   "file_extension": ".py",
   "mimetype": "text/x-python",
   "name": "python",
   "nbconvert_exporter": "python",
   "pygments_lexer": "ipython3",
   "version": "3.12.4"
  }
 },
 "nbformat": 4,
 "nbformat_minor": 5
}
