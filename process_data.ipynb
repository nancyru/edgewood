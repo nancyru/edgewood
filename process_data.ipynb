{
 "cells": [
  {
   "cell_type": "code",
   "execution_count": null,
   "id": "d96a5e98-fac9-4b55-8575-033a8293cd53",
   "metadata": {},
   "outputs": [],
   "source": [
    "import copy\n",
    "import json\n",
    "import pickle\n",
    "import re"
   ]
  },
  {
   "cell_type": "code",
   "execution_count": null,
   "id": "c58dca2a-9e05-4d5a-9c31-1f4feb4cc41d",
   "metadata": {},
   "outputs": [],
   "source": [
    "# Load firecrawl results from pickle file\n",
    "\n",
    "filename = 'firecrawl_result.pkl'\n",
    "\n",
    "with open(filename, 'rb') as file:\n",
    "    firecrawl_result = pickle.load(file)"
   ]
  },
  {
   "cell_type": "code",
   "execution_count": null,
   "id": "88961b01-9c36-4d3a-bc34-a7cb6b71d858",
   "metadata": {},
   "outputs": [],
   "source": [
    "# Reduce charactor count by removing hyperlinks\n",
    "\n",
    "def remove_hyperlinks(s):\n",
    "    return re.sub(r'\\(http[^()]*\\)', '', s)\n",
    "\n",
    "def process_firecrawl(firecrawl_result):\n",
    "    processed_result = copy.deepcopy(firecrawl_result)\n",
    "    for i in range(len(firecrawl_result['data'])):\n",
    "        processed_result['data'][i]['markdown'] = remove_hyperlinks(processed_result['data'][i]['markdown'])\n",
    "    return processed_result\n",
    "\n",
    "firecrawl_processed = process_firecrawl(firecrawl_result)"
   ]
  },
  {
   "cell_type": "code",
   "execution_count": null,
   "id": "255907f4-c4bc-492f-9042-322278514342",
   "metadata": {},
   "outputs": [],
   "source": [
    "# Save processed data as json\n",
    "\n",
    "with open(\"firecrawl_processed.json\", \"w\") as file:\n",
    "    json.dump(firecrawl_processed, file, indent=4)  "
   ]
  }
 ],
 "metadata": {
  "kernelspec": {
   "display_name": "Python 3 (ipykernel)",
   "language": "python",
   "name": "python3"
  },
  "language_info": {
   "codemirror_mode": {
    "name": "ipython",
    "version": 3
   },
   "file_extension": ".py",
   "mimetype": "text/x-python",
   "name": "python",
   "nbconvert_exporter": "python",
   "pygments_lexer": "ipython3",
   "version": "3.12.4"
  }
 },
 "nbformat": 4,
 "nbformat_minor": 5
}
